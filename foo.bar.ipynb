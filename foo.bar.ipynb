{
 "cells": [
  {
   "cell_type": "markdown",
   "id": "b2f84ac7-de86-4e1e-8e3c-0aa517c792c4",
   "metadata": {},
   "source": [
    "https://foobar.withgoogle.com"
   ]
  },
  {
   "cell_type": "markdown",
   "id": "121e0ddf-fb45-451e-a257-f9ff7ab96820",
   "metadata": {},
   "source": [
    "Solar Doomsday\n",
    "==============\n",
    "\n",
    "Who would've guessed? Doomsday devices take a LOT of power. Commander Lambda wants to supplement the LAMBCHOP's quantum antimatter reactor core with solar arrays, and you've been tasked with setting up the solar panels. \n",
    "\n",
    "Due to the nature of the space station's outer paneling, all of its solar panels must be squares. Fortunately, you have one very large and flat area of solar material, a pair of industrial-strength scissors, and enough MegaCorp Solar Tape(TM) to piece together any excess panel material into more squares. For example, if you had a total area of 12 square yards of solar material, you would be able to make one 3x3 square panel (with a total area of 9). That would leave 3 square yards, so you can turn those into three 1x1 square solar panels.\n",
    "\n",
    "Write a function solution(area) that takes as its input a single unit of measure representing the total area of solar panels you have (between 1 and 1000000 inclusive) and returns a list of the areas of the largest squares you could make out of those panels, starting with the largest squares first. So, following the example above, solution(12) would return [9, 1, 1, 1].\n"
   ]
  },
  {
   "cell_type": "code",
   "execution_count": 1,
   "id": "37903d59-1b7e-4006-bc46-7c30e3c9990d",
   "metadata": {},
   "outputs": [
    {
     "name": "stdout",
     "output_type": "stream",
     "text": [
      "Overwriting solution.py\n"
     ]
    }
   ],
   "source": [
    "%%writefile solution.py\n",
    "import math as np\n",
    "def solution(n):\n",
    "    l=[]\n",
    "    j=0\n",
    "    max_while=10000000\n",
    "    while n>0:\n",
    "        x=range(n+1)[::-1]\n",
    "        first=list( map(np.sqrt,x))\n",
    "        second=[-xx for xx in map( int, map(np.sqrt,x))]\n",
    "        i=[sum(value) for value in zip(first, second)].index(0)        \n",
    "        l.append(x[i])        \n",
    "        n=n-x[i]\n",
    "        j+=1\n",
    "        if j>max_while:\n",
    "            break\n",
    "    return l\n",
    "if __name__=='__main__':\n",
    "    print('tests..')\n",
    "    assert solution(12)==[9, 1, 1, 1]\n",
    "    assert solution(15324)==[15129,169,25,1]    "
   ]
  },
  {
   "cell_type": "code",
   "execution_count": 2,
   "id": "ad7cd17e-f51d-4943-a637-976704715bc6",
   "metadata": {},
   "outputs": [],
   "source": [
    "import solution\n",
    "assert solution.solution(12)==[9, 1, 1, 1]\n",
    "assert solution.solution(15324)==[15129,169,25,1]"
   ]
  },
  {
   "cell_type": "code",
   "execution_count": 7,
   "id": "84c817eb-93b5-435d-942d-f5b9c8ab197e",
   "metadata": {},
   "outputs": [
    {
     "name": "stdout",
     "output_type": "stream",
     "text": [
      "Overwriting solution.py\n"
     ]
    }
   ],
   "source": [
    "%%writefile solution.py\n",
    "import numpy as npa\n",
    "def solution(n):\n",
    "    l=[]\n",
    "    j=0\n",
    "    max_while=10000000\n",
    "    while n>0:\n",
    "        x=range(n+1)[::-1]\n",
    "        i=np.where( np.isclose( [n for n  in np.sqrt(x)-np.sqrt(x).astype(int)], 0,rtol=1E-16))[0][0]\n",
    "        l.append(x[i])\n",
    "        n=n-x[i]\n",
    "        j+=1\n",
    "        if j>max_while:\n",
    "            break\n",
    "    return l"
   ]
  },
  {
   "cell_type": "code",
   "execution_count": 8,
   "id": "eb692819-1a7e-4d3e-b5df-5d4ce5b20f8b",
   "metadata": {},
   "outputs": [],
   "source": [
    "import solution\n",
    "assert solution.solution(12)==[9, 1, 1, 1]\n",
    "assert solution.solution(15324)==[15129,169,25,1]"
   ]
  },
  {
   "cell_type": "code",
   "execution_count": null,
   "id": "5f88df73-a086-4c71-a126-d6353d9f30e6",
   "metadata": {},
   "outputs": [],
   "source": []
  }
 ],
 "metadata": {
  "kernelspec": {
   "display_name": "Python 3 (ipykernel)",
   "language": "python",
   "name": "python3"
  },
  "language_info": {
   "codemirror_mode": {
    "name": "ipython",
    "version": 3
   },
   "file_extension": ".py",
   "mimetype": "text/x-python",
   "name": "python",
   "nbconvert_exporter": "python",
   "pygments_lexer": "ipython3",
   "version": "3.9.2"
  }
 },
 "nbformat": 4,
 "nbformat_minor": 5
}
